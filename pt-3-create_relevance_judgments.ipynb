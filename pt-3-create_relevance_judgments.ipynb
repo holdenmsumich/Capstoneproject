{
 "cells": [
  {
   "attachments": {
    "e898575f-ac30-45af-aa06-dd6a4e536c78.png": {
     "image/png": "[encoded data removed]"
    }
   },
   "cell_type": "markdown",
   "id": "a9f95cc1-d257-4b19-8c91-b800d2da169d",
   "metadata": {},
   "source": [
    "### Pt 4 - Create Relevance Judgments\n",
    "\n",
    "#### Why Relevance Judgments?\n",
    "Relevance judgments are useful for this type of recommender system, because there won't always be one NAICS that corresponds to a query. There may be a best fitting NAICS, but given that queries are open ended,a query like \"farm\" could correspond to multiple NAICS codes. With a query that succinct, the order isn't really important either.\n",
    "\n",
    "### Queries\n",
    "The list of 1154 queries was collected by me, using Google as a method to gather the data. First, I looked through https://www.opensecrets.org/industries/alphalist.php to find a list of potential queries, and then I searched for companies within those industries on Google. To keep the queries contained, I took the business descriptions returned by Google, and added it to the list of queries. As seen below:\n",
    "\n",
    "![image.png](attachment:e898575f-ac30-45af-aa06-dd6a4e536c78.png)\n",
    "\n",
    "While users could theoretically type any query they want, to test the performance of my Recommender system, I needed easily reproducible queries that readers will be able to validate for themselves. This file with all queries can be found in assets/query_list.xlsx."
   ]
  },
  {
   "cell_type": "code",
   "execution_count": 171,
   "id": "b5080694-4e60-4281-9057-2645e56bfbcd",
   "metadata": {},
   "outputs": [],
   "source": [
    "import pandas as pd\n",
    "import numpy as np\n",
    "from bs4 import BeautifulSoup\n",
    "import requests\n",
    "import urllib.parse\n",
    "import time"
   ]
  },
  {
   "cell_type": "code",
   "execution_count": 155,
   "id": "d6be8c8b-0407-4e17-8bbe-ced1ed1c83d6",
   "metadata": {},
   "outputs": [
    {
     "data": {
      "text/html": [
       "<div>\n",
       "<style scoped>\n",
       "    .dataframe tbody tr th:only-of-type {\n",
       "        vertical-align: middle;\n",
       "    }\n",
       "\n",
       "    .dataframe tbody tr th {\n",
       "        vertical-align: top;\n",
       "    }\n",
       "\n",
       "    .dataframe thead th {\n",
       "        text-align: right;\n",
       "    }\n",
       "</style>\n",
       "<table border=\"1\" class=\"dataframe\">\n",
       "  <thead>\n",
       "    <tr style=\"text-align: right;\">\n",
       "      <th></th>\n",
       "      <th>query</th>\n",
       "    </tr>\n",
       "  </thead>\n",
       "  <tbody>\n",
       "    <tr>\n",
       "      <th>0</th>\n",
       "      <td>Home improvement store</td>\n",
       "    </tr>\n",
       "    <tr>\n",
       "      <th>1</th>\n",
       "      <td>Diesel fuel supplier</td>\n",
       "    </tr>\n",
       "    <tr>\n",
       "      <th>2</th>\n",
       "      <td>Church</td>\n",
       "    </tr>\n",
       "    <tr>\n",
       "      <th>3</th>\n",
       "      <td>Farm</td>\n",
       "    </tr>\n",
       "    <tr>\n",
       "      <th>4</th>\n",
       "      <td>Seed supplier</td>\n",
       "    </tr>\n",
       "  </tbody>\n",
       "</table>\n",
       "</div>"
      ],
      "text/plain": [
       "                    query\n",
       "0  Home improvement store\n",
       "1    Diesel fuel supplier\n",
       "2                  Church\n",
       "3                    Farm\n",
       "4           Seed supplier"
      ]
     },
     "execution_count": 155,
     "metadata": {},
     "output_type": "execute_result"
    }
   ],
   "source": [
    "# display list of queries\n",
    "queries = pd.read_excel(r'assets/query_list.xlsx')\n",
    "queries.head()"
   ]
  },
  {
   "cell_type": "markdown",
   "id": "4b22f88e-f84d-4e75-8096-1794a85990cb",
   "metadata": {},
   "source": [
    "- The below block is commented out because it makes 1000+ requests to Google for the most relevant NAICS code for the query. For example, this sends a request to Google to find \"Home improvement store NAICS code,\" and takes the top returned result to get a baseline most likely NAICS code.\n",
    "- The results returned from Google do not populate all NAICS codes and sometimes find undesired text/characters.\n",
    "- I manually updated the remaining ones (there were about 300 or so), with my own judgment on what I believed to be the closest NAICS code. Unfortunately, this is tough to replicate exactly because it comes down to your discretion, but you can always look at the final dataframe to confirm for yourself whether or not you think the NAICS codes are relevant to the query.\n",
    "- This code will take hours to run, so leave it commented out and skip to where the file is loaded in from asssets/related_naics.csv\n"
   ]
  },
  {
   "cell_type": "code",
   "execution_count": 156,
   "id": "63220b79-7b62-4ea2-b7ca-f69acafce62c",
   "metadata": {},
   "outputs": [],
   "source": [
    "# # set user agent so that Google believes the request is comign from a browser\n",
    "# headers = {\n",
    "#     'User-Agent': 'Mozilla/5.0 (Windows NT 10.0; Win64; x64) AppleWebKit/537.36 (KHTML, like Gecko) Chrome/104.0.0.0 Safari/537.36'\n",
    "# }\n",
    "\n",
    "# # Due to Google restricting the use of web scrapers, we need to set a random time delay in between each query so that Google cannot detect the bot\n",
    "# rng = np.random.default_rng()\n",
    "\n",
    "# for row in queries.iterrows():\n",
    "#     query = urllib.parse.quote(str(row[1]['query']) + ' NAICS Code')\n",
    "#     soup = BeautifulSoup(requests.get(f'https://www.google.com/search?q={query}', headers=headers).text, 'html.parser')\n",
    "#     if soup.body.find(class_='LC20lb MBeuO DKV0Md') != None:\n",
    "#         result = soup.body.find(class_='LC20lb MBeuO DKV0Md').text.split(' ')[2]\n",
    "#         queries.loc[row[0], 'relevant_naics'] = result.replace('\\'', '')\n",
    "#     else:\n",
    "#         print(f'{queries.loc[row[0], \"query\"]} : No results found')\n",
    "\n",
    "#     queries.to_csv('assets/related_naics.csv', index=False)\n",
    "#     time.sleep(rng.uniform(1,10))"
   ]
  },
  {
   "cell_type": "code",
   "execution_count": 157,
   "id": "23d2562a-ccb9-4cba-b61d-fef839ce8e36",
   "metadata": {},
   "outputs": [
    {
     "data": {
      "text/html": [
       "<div>\n",
       "<style scoped>\n",
       "    .dataframe tbody tr th:only-of-type {\n",
       "        vertical-align: middle;\n",
       "    }\n",
       "\n",
       "    .dataframe tbody tr th {\n",
       "        vertical-align: top;\n",
       "    }\n",
       "\n",
       "    .dataframe thead th {\n",
       "        text-align: right;\n",
       "    }\n",
       "</style>\n",
       "<table border=\"1\" class=\"dataframe\">\n",
       "  <thead>\n",
       "    <tr style=\"text-align: right;\">\n",
       "      <th></th>\n",
       "      <th>query</th>\n",
       "      <th>relevant_naics</th>\n",
       "    </tr>\n",
       "  </thead>\n",
       "  <tbody>\n",
       "    <tr>\n",
       "      <th>0</th>\n",
       "      <td>Home improvement store</td>\n",
       "      <td>444110</td>\n",
       "    </tr>\n",
       "    <tr>\n",
       "      <th>1</th>\n",
       "      <td>Diesel fuel supplier</td>\n",
       "      <td>424710</td>\n",
       "    </tr>\n",
       "    <tr>\n",
       "      <th>2</th>\n",
       "      <td>Church</td>\n",
       "      <td>813110</td>\n",
       "    </tr>\n",
       "    <tr>\n",
       "      <th>3</th>\n",
       "      <td>Farm</td>\n",
       "      <td>115116</td>\n",
       "    </tr>\n",
       "    <tr>\n",
       "      <th>4</th>\n",
       "      <td>Seed supplier</td>\n",
       "      <td>424910</td>\n",
       "    </tr>\n",
       "  </tbody>\n",
       "</table>\n",
       "</div>"
      ],
      "text/plain": [
       "                    query  relevant_naics\n",
       "0  Home improvement store          444110\n",
       "1    Diesel fuel supplier          424710\n",
       "2                  Church          813110\n",
       "3                    Farm          115116\n",
       "4           Seed supplier          424910"
      ]
     },
     "execution_count": 157,
     "metadata": {},
     "output_type": "execute_result"
    }
   ],
   "source": [
    "related_naics = pd.read_csv('assets/related_naics.csv')\n",
    "related_naics.head()"
   ]
  },
  {
   "cell_type": "code",
   "execution_count": 158,
   "id": "fc7aa113-3cdf-4895-9639-f4d40228598e",
   "metadata": {},
   "outputs": [
    {
     "data": {
      "text/html": [
       "<div>\n",
       "<style scoped>\n",
       "    .dataframe tbody tr th:only-of-type {\n",
       "        vertical-align: middle;\n",
       "    }\n",
       "\n",
       "    .dataframe tbody tr th {\n",
       "        vertical-align: top;\n",
       "    }\n",
       "\n",
       "    .dataframe thead th {\n",
       "        text-align: right;\n",
       "    }\n",
       "</style>\n",
       "<table border=\"1\" class=\"dataframe\">\n",
       "  <thead>\n",
       "    <tr style=\"text-align: right;\">\n",
       "      <th></th>\n",
       "      <th>naics</th>\n",
       "      <th>title</th>\n",
       "      <th>Unnamed: 2</th>\n",
       "    </tr>\n",
       "  </thead>\n",
       "  <tbody>\n",
       "    <tr>\n",
       "      <th>0</th>\n",
       "      <td>111110</td>\n",
       "      <td>Soybean Farming</td>\n",
       "      <td>NaN</td>\n",
       "    </tr>\n",
       "    <tr>\n",
       "      <th>1</th>\n",
       "      <td>111120</td>\n",
       "      <td>Oilseed (except Soybean) Farming</td>\n",
       "      <td>NaN</td>\n",
       "    </tr>\n",
       "    <tr>\n",
       "      <th>2</th>\n",
       "      <td>111130</td>\n",
       "      <td>Dry Pea and Bean Farming</td>\n",
       "      <td>NaN</td>\n",
       "    </tr>\n",
       "    <tr>\n",
       "      <th>3</th>\n",
       "      <td>111140</td>\n",
       "      <td>Wheat Farming</td>\n",
       "      <td>NaN</td>\n",
       "    </tr>\n",
       "    <tr>\n",
       "      <th>4</th>\n",
       "      <td>111150</td>\n",
       "      <td>Corn Farming</td>\n",
       "      <td>NaN</td>\n",
       "    </tr>\n",
       "  </tbody>\n",
       "</table>\n",
       "</div>"
      ],
      "text/plain": [
       "    naics                              title Unnamed: 2\n",
       "0  111110                    Soybean Farming        NaN\n",
       "1  111120  Oilseed (except Soybean) Farming         NaN\n",
       "2  111130          Dry Pea and Bean Farming         NaN\n",
       "3  111140                      Wheat Farming        NaN\n",
       "4  111150                      Corn Farming         NaN"
      ]
     },
     "execution_count": 158,
     "metadata": {},
     "output_type": "execute_result"
    }
   ],
   "source": [
    "# load in NAICS codes\n",
    "naics_titles = pd.read_excel('assets/6-digit_2017_Codes.xlsx')\n",
    "naics_titles['naics'] = naics_titles['naics'].astype(str)\n",
    "naics_titles.head()"
   ]
  },
  {
   "cell_type": "markdown",
   "id": "1be683c5-c4a9-4188-9765-6c7ec84caa19",
   "metadata": {},
   "source": [
    "- The below block of code fills in the lists in the relevant_naics columnm, with the next most likely NAICS in descending order.\n",
    "- This decision was made, because each 6 digit NAICS code falls under a higher-level, lower-digit NAICS code. For example, classess 111110 and 111111 are both unique class code, but they fall under the subclass of all classes that begin with \"1111\", and \"111\", and \"11\", etc.\n",
    "- First the code will find the closest corresponding 6 digit NAICS codes, and then go further down the line and add on the most relevant 2 digit NAIC code groups.\n",
    "- This is not a 100% fool proof method, as queries can pertain to NAICS codes that are not within the same group. \n",
    "- For example, a user could query \"music store\", and the might get a result for \"451140 - musical instrument store\", plus all other codes that begin with 45115, etc. \n",
    "- However, this query would exclude something like \"339992 - Musical Instrument Manufacturing\", because it doesn't even match numbers at the highest level possible (45 and 33 do not match). \n",
    "- This is one major drawback of my project. I simply did not have enough resources to create a curated list with all possible relevant NAICS codes, so I stuck with creating a list that contains codes that are industry related. If I had more time and resources, I would go back to this part and try to expand my query / NAICS code relationship further.\n",
    "\n",
    "\n",
    "You can read more about the breakdown of Sector, Subsector, Industry Group, NAICS Industry, and National Industry code breakdown here: https://www.census.gov/programs-surveys/economic-census/guidance/understanding-naics.html to understand how they are grouped together."
   ]
  },
  {
   "cell_type": "code",
   "execution_count": 159,
   "id": "bec8a0bb-4679-4395-b312-d91ba279dc33",
   "metadata": {},
   "outputs": [
    {
     "data": {
      "text/html": [
       "<div>\n",
       "<style scoped>\n",
       "    .dataframe tbody tr th:only-of-type {\n",
       "        vertical-align: middle;\n",
       "    }\n",
       "\n",
       "    .dataframe tbody tr th {\n",
       "        vertical-align: top;\n",
       "    }\n",
       "\n",
       "    .dataframe thead th {\n",
       "        text-align: right;\n",
       "    }\n",
       "</style>\n",
       "<table border=\"1\" class=\"dataframe\">\n",
       "  <thead>\n",
       "    <tr style=\"text-align: right;\">\n",
       "      <th></th>\n",
       "      <th>query</th>\n",
       "      <th>relevant_naics</th>\n",
       "    </tr>\n",
       "  </thead>\n",
       "  <tbody>\n",
       "    <tr>\n",
       "      <th>0</th>\n",
       "      <td>Home improvement store</td>\n",
       "      <td>444110</td>\n",
       "    </tr>\n",
       "    <tr>\n",
       "      <th>1</th>\n",
       "      <td>Diesel fuel supplier</td>\n",
       "      <td>424710</td>\n",
       "    </tr>\n",
       "    <tr>\n",
       "      <th>2</th>\n",
       "      <td>Church</td>\n",
       "      <td>813110</td>\n",
       "    </tr>\n",
       "    <tr>\n",
       "      <th>3</th>\n",
       "      <td>Farm</td>\n",
       "      <td>115116</td>\n",
       "    </tr>\n",
       "    <tr>\n",
       "      <th>4</th>\n",
       "      <td>Seed supplier</td>\n",
       "      <td>424910</td>\n",
       "    </tr>\n",
       "    <tr>\n",
       "      <th>...</th>\n",
       "      <td>...</td>\n",
       "      <td>...</td>\n",
       "    </tr>\n",
       "    <tr>\n",
       "      <th>1149</th>\n",
       "      <td>State department agricultural development</td>\n",
       "      <td>926140</td>\n",
       "    </tr>\n",
       "    <tr>\n",
       "      <th>1150</th>\n",
       "      <td>Military base</td>\n",
       "      <td>928110</td>\n",
       "    </tr>\n",
       "    <tr>\n",
       "      <th>1151</th>\n",
       "      <td>Embassy</td>\n",
       "      <td>928120</td>\n",
       "    </tr>\n",
       "    <tr>\n",
       "      <th>1152</th>\n",
       "      <td>Window supplier</td>\n",
       "      <td>321911</td>\n",
       "    </tr>\n",
       "    <tr>\n",
       "      <th>1153</th>\n",
       "      <td>Customs department</td>\n",
       "      <td>926120</td>\n",
       "    </tr>\n",
       "  </tbody>\n",
       "</table>\n",
       "<p>1154 rows × 2 columns</p>\n",
       "</div>"
      ],
      "text/plain": [
       "                                          query  relevant_naics\n",
       "0                        Home improvement store          444110\n",
       "1                          Diesel fuel supplier          424710\n",
       "2                                        Church          813110\n",
       "3                                          Farm          115116\n",
       "4                                 Seed supplier          424910\n",
       "...                                         ...             ...\n",
       "1149  State department agricultural development          926140\n",
       "1150                              Military base          928110\n",
       "1151                                    Embassy          928120\n",
       "1152                            Window supplier          321911\n",
       "1153                         Customs department          926120\n",
       "\n",
       "[1154 rows x 2 columns]"
      ]
     },
     "execution_count": 159,
     "metadata": {},
     "output_type": "execute_result"
    }
   ],
   "source": [
    "related_naics"
   ]
  },
  {
   "cell_type": "code",
   "execution_count": 167,
   "id": "aad37ad1-bbd9-4e7d-9641-1cdb5c9b1171",
   "metadata": {},
   "outputs": [],
   "source": [
    "def add_relevant_codes(naics_df, query_df):\n",
    "    query_df = query_df.copy()\n",
    "    for row in query_df.iterrows():\n",
    "        rel_codes = []\n",
    "        \n",
    "        # add related codes in descending order from highest number of digits to lowest number of digits\n",
    "        for i in range(6, 1, -1):\n",
    "            relevant = naics_df[naics_df['naics'].str.slice(start=0, stop=i) == str(row[1]['relevant_naics'])[:i]]['naics']\n",
    "            for code in relevant:\n",
    "                if code not in rel_codes:\n",
    "                    rel_codes.append(code)\n",
    "        row[1]['relevant_naics'] = rel_codes\n",
    "        query_df.iloc[row[0]] = row[1]\n",
    "    return query_df"
   ]
  },
  {
   "cell_type": "code",
   "execution_count": 168,
   "id": "f388bee3-b336-48c7-a2be-8006b38d7777",
   "metadata": {},
   "outputs": [],
   "source": [
    "relevant_naics_df = add_relevant_codes(naics_titles, related_naics)"
   ]
  },
  {
   "cell_type": "code",
   "execution_count": 173,
   "id": "866060db-baa1-4727-aa99-032c649a9cbf",
   "metadata": {},
   "outputs": [
    {
     "data": {
      "text/html": [
       "<div>\n",
       "<style scoped>\n",
       "    .dataframe tbody tr th:only-of-type {\n",
       "        vertical-align: middle;\n",
       "    }\n",
       "\n",
       "    .dataframe tbody tr th {\n",
       "        vertical-align: top;\n",
       "    }\n",
       "\n",
       "    .dataframe thead th {\n",
       "        text-align: right;\n",
       "    }\n",
       "</style>\n",
       "<table border=\"1\" class=\"dataframe\">\n",
       "  <thead>\n",
       "    <tr style=\"text-align: right;\">\n",
       "      <th></th>\n",
       "      <th>query</th>\n",
       "      <th>relevant_naics</th>\n",
       "    </tr>\n",
       "  </thead>\n",
       "  <tbody>\n",
       "    <tr>\n",
       "      <th>0</th>\n",
       "      <td>Home improvement store</td>\n",
       "      <td>[444110, 444120, 444130, 444190, 444210, 44422...</td>\n",
       "    </tr>\n",
       "    <tr>\n",
       "      <th>1</th>\n",
       "      <td>Diesel fuel supplier</td>\n",
       "      <td>[424710, 424720, 424110, 424120, 424130, 42421...</td>\n",
       "    </tr>\n",
       "    <tr>\n",
       "      <th>2</th>\n",
       "      <td>Church</td>\n",
       "      <td>[813110, 813211, 813212, 813219, 813311, 81331...</td>\n",
       "    </tr>\n",
       "    <tr>\n",
       "      <th>3</th>\n",
       "      <td>Farm</td>\n",
       "      <td>[115116, 115111, 115112, 115113, 115114, 11511...</td>\n",
       "    </tr>\n",
       "    <tr>\n",
       "      <th>4</th>\n",
       "      <td>Seed supplier</td>\n",
       "      <td>[424910, 424920, 424930, 424940, 424950, 42499...</td>\n",
       "    </tr>\n",
       "  </tbody>\n",
       "</table>\n",
       "</div>"
      ],
      "text/plain": [
       "                    query                                     relevant_naics\n",
       "0  Home improvement store  [444110, 444120, 444130, 444190, 444210, 44422...\n",
       "1    Diesel fuel supplier  [424710, 424720, 424110, 424120, 424130, 42421...\n",
       "2                  Church  [813110, 813211, 813212, 813219, 813311, 81331...\n",
       "3                    Farm  [115116, 115111, 115112, 115113, 115114, 11511...\n",
       "4           Seed supplier  [424910, 424920, 424930, 424940, 424950, 42499..."
      ]
     },
     "execution_count": 173,
     "metadata": {},
     "output_type": "execute_result"
    }
   ],
   "source": [
    "relevant_naics_df.head()"
   ]
  },
  {
   "cell_type": "code",
   "execution_count": 170,
   "id": "623b3864-e71e-4e04-a07d-ad69dd193f32",
   "metadata": {},
   "outputs": [],
   "source": [
    "relevant_naics_df.to_pickle('assets/relevant_naics_df.pkl')"
   ]
  },
  {
   "cell_type": "markdown",
   "id": "e76d84a9-0aa4-4861-a07c-cb7ae417bf35",
   "metadata": {},
   "source": [
    "At the end, we are left with a dataframe that contains all queries, and a list of relevant NAICS codes in descending order."
   ]
  }
 ],
 "metadata": {
  "kernelspec": {
   "display_name": "Python 3 (ipykernel)",
   "language": "python",
   "name": "python3"
  },
  "language_info": {
   "codemirror_mode": {
    "name": "ipython",
    "version": 3
   },
   "file_extension": ".py",
   "mimetype": "text/x-python",
   "name": "python",
   "nbconvert_exporter": "python",
   "pygments_lexer": "ipython3",
   "version": "3.9.1"
  }
 },
 "nbformat": 4,
 "nbformat_minor": 5
}
