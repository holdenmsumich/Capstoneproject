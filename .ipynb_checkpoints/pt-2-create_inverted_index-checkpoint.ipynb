{
 "cells": [
  {
   "cell_type": "markdown",
   "id": "b78761ab-613f-4bb9-8d40-8b2b7d6f68fd",
   "metadata": {},
   "source": [
    "#### Pt 2 - Build an Inverted Index\n",
    "This section of code builds an inverted index which is used in the word count Recommender System. Two lines of code are commented out. It is recommended that you do not run them, as they take between 15-20 minutes. The end results have been exported as JSON files called 'assets/inverted_index_stem.json' and assets/inverted_index_lem.json for each stemmed or lemmatized word"
   ]
  },
  {
   "cell_type": "code",
   "execution_count": 1,
   "id": "bea48c40-cb23-456c-9006-000cfcf85e7c",
   "metadata": {},
   "outputs": [],
   "source": [
    "import pandas as pd\n",
    "from sklearn.metrics.pairwise import cosine_similarity\n",
    "import numpy as np\n",
    "from tqdm import tqdm\n",
    "import json"
   ]
  },
  {
   "cell_type": "code",
   "execution_count": 57,
   "id": "ec1b53c8-4912-4ba5-86f7-d106d73abc7a",
   "metadata": {},
   "outputs": [],
   "source": [
    "# load processed dataframe saved from load_data.ipynb\n",
    "processed_df = pd.read_pickle('assets/processed_df.pkl')"
   ]
  },
  {
   "cell_type": "code",
   "execution_count": 61,
   "id": "7b871376-292a-453e-a114-9ddb43bc1061",
   "metadata": {},
   "outputs": [],
   "source": [
    "# build inverted index with word and frequency word appears in each document\n",
    "def inverted_index(df, normalization):\n",
    "    inv_index = dict()\n",
    "    for doc, words in tqdm(dict(zip(df['naics'],df[normalization])).items()):\n",
    "        for word in words:\n",
    "            if word in inv_index:\n",
    "                inv_index[word][doc] = words.count(word)\n",
    "            else:\n",
    "                inv_index[word] = {doc: words.count(word)}\n",
    "    return inv_index"
   ]
  },
  {
   "cell_type": "code",
   "execution_count": 62,
   "id": "3ba3ad25-b6bc-44e9-bbed-a4468d5835d3",
   "metadata": {},
   "outputs": [],
   "source": [
    "#code takes a very long time (15-20 mins)\n",
    "#do not run!! use resulting pkl file instead"
   ]
  },
  {
   "cell_type": "code",
   "execution_count": 63,
   "id": "b0ed9953-8380-45f4-9aec-d7b50aa868be",
   "metadata": {},
   "outputs": [
    {
     "name": "stderr",
     "output_type": "stream",
     "text": [
      "100%|██████████████████████████████████████████████████████████████████████████████| 1057/1057 [15:23<00:00,  1.15it/s]\n"
     ]
    }
   ],
   "source": [
    "# inverted_index_stem = inverted_index(processed_df, 'stemmed')"
   ]
  },
  {
   "cell_type": "code",
   "execution_count": 64,
   "id": "b8a47349-b860-4b77-ab82-80a10f5acdc9",
   "metadata": {},
   "outputs": [
    {
     "name": "stderr",
     "output_type": "stream",
     "text": [
      "100%|██████████████████████████████████████████████████████████████████████████████| 1057/1057 [14:38<00:00,  1.20it/s]\n"
     ]
    }
   ],
   "source": [
    "# inverted_index_lem = inverted_index(processed_df, 'lemmatized')"
   ]
  },
  {
   "cell_type": "code",
   "execution_count": 65,
   "id": "9f85514f-1093-4b3f-8ea8-61f6d073afc6",
   "metadata": {},
   "outputs": [],
   "source": [
    "# export as json files so you do not have to run the code again."
   ]
  },
  {
   "cell_type": "code",
   "execution_count": 66,
   "id": "8a239d26-aaa5-4cc4-aa3e-3435a46689d3",
   "metadata": {},
   "outputs": [],
   "source": [
    "with open(r'assets/inverted_index_stem.json', 'w') as f:\n",
    "    json.dump(inverted_index_stem, f)"
   ]
  },
  {
   "cell_type": "code",
   "execution_count": 67,
   "id": "c8ce616b-e088-4db1-8bec-e1d19840eb00",
   "metadata": {},
   "outputs": [],
   "source": [
    "with open(r'assets/inverted_index_lem.json', 'w') as f:\n",
    "    json.dump(inverted_index_lem, f)"
   ]
  }
 ],
 "metadata": {
  "kernelspec": {
   "display_name": "Python 3 (ipykernel)",
   "language": "python",
   "name": "python3"
  },
  "language_info": {
   "codemirror_mode": {
    "name": "ipython",
    "version": 3
   },
   "file_extension": ".py",
   "mimetype": "text/x-python",
   "name": "python",
   "nbconvert_exporter": "python",
   "pygments_lexer": "ipython3",
   "version": "3.9.1"
  }
 },
 "nbformat": 4,
 "nbformat_minor": 5
}
