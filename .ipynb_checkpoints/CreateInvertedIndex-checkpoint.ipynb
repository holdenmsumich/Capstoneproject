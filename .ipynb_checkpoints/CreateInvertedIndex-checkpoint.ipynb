{
 "cells": [
  {
   "cell_type": "code",
   "execution_count": 19,
   "id": "95be0be8-ccfb-47da-8b9e-4da2250480e3",
   "metadata": {},
   "outputs": [],
   "source": [
    "import pandas as pd\n",
    "from sklearn.metrics.pairwise import cosine_similarity\n",
    "import numpy as np\n",
    "from tqdm import tqdm"
   ]
  },
  {
   "cell_type": "code",
   "execution_count": 6,
   "id": "ec1b53c8-4912-4ba5-86f7-d106d73abc7a",
   "metadata": {},
   "outputs": [],
   "source": [
    "# load processed dataframe saved from load_data.ipynb\n",
    "processed_df = pd.read_pickle('assets/processed_df.pkl')"
   ]
  },
  {
   "cell_type": "markdown",
   "id": "4e947cd5-1184-4a80-9978-8d719be9ef62",
   "metadata": {},
   "source": [
    "## Term Frequency Model\n",
    "This recommender model simply ranks documents based on the count of words that are most frequently share between the query and the document. "
   ]
  },
  {
   "cell_type": "code",
   "execution_count": 20,
   "id": "7b871376-292a-453e-a114-9ddb43bc1061",
   "metadata": {},
   "outputs": [],
   "source": [
    "def inverted_index(df, normalization):\n",
    "    inv_index = dict()\n",
    "    for doc, words in tqdm(dict(zip(df['naics'],df[normalization])).items()):\n",
    "        for word in words:\n",
    "            if word in inv_index:\n",
    "                inv_index[word][doc] = words.count(word)\n",
    "            else:\n",
    "                inv_index[word] = {doc: words.count(word)}\n",
    "    return inv_index"
   ]
  },
  {
   "cell_type": "code",
   "execution_count": 21,
   "id": "3ba3ad25-b6bc-44e9-bbed-a4468d5835d3",
   "metadata": {},
   "outputs": [],
   "source": [
    "#code takes a very long time, do not run!! use resulting pkl file instead"
   ]
  },
  {
   "cell_type": "code",
   "execution_count": null,
   "id": "b0ed9953-8380-45f4-9aec-d7b50aa868be",
   "metadata": {},
   "outputs": [
    {
     "name": "stderr",
     "output_type": "stream",
     "text": [
      "  8%|██████▏                                                                         | 82/1057 [00:40<14:13,  1.14it/s]"
     ]
    }
   ],
   "source": [
    "inverted_index_stem = inverted_index(processed_df, 'stemmed')"
   ]
  },
  {
   "cell_type": "code",
   "execution_count": null,
   "id": "b8a47349-b860-4b77-ab82-80a10f5acdc9",
   "metadata": {},
   "outputs": [],
   "source": [
    "inverted_index_lem = inverted_index(processed_df, 'lemmatized')"
   ]
  },
  {
   "cell_type": "code",
   "execution_count": null,
   "id": "8a239d26-aaa5-4cc4-aa3e-3435a46689d3",
   "metadata": {},
   "outputs": [],
   "source": [
    "inverted_index_stem.to_pickle(r'assets/inverted_index_stem.pkl)"
   ]
  },
  {
   "cell_type": "code",
   "execution_count": null,
   "id": "dc79d654-2c17-4256-92bc-c642db4aaa0a",
   "metadata": {},
   "outputs": [],
   "source": [
    "inverted_index_lem.to_pickle(r'assets/inverted_index_lem.pkl)"
   ]
  },
  {
   "cell_type": "code",
   "execution_count": 10,
   "id": "20d6de37-bd67-449e-a046-6ccc88b272bf",
   "metadata": {},
   "outputs": [],
   "source": [
    "# code example taken from https://towardsdatascience.com/build-a-text-recommendation-system-with-python-e8b95d9f251c\n",
    "def retrieve_top_n(m, max_docs):\n",
    "    # return the sum on all tokens of cosinus for each sentence\n",
    "    if len(m.shape) > 1:\n",
    "        cos_sim = np.mean(m, axis=0) \n",
    "    else: \n",
    "        cos_sim = m\n",
    "    index = np.argsort(cos_sim)[::-1] # from highest idx to smallest score \\\n",
    "    mask = np.ones(len(cos_sim))\n",
    "    mask = np.logical_or(cos_sim[index] != 0, mask) #eliminate 0 cosine distance\n",
    "    best_index = index[mask][:max_docs]  \n",
    "    return best_index"
   ]
  },
  {
   "cell_type": "code",
   "execution_count": null,
   "id": "d05c107a-919d-48d3-91e2-340375d9ed5f",
   "metadata": {},
   "outputs": [],
   "source": []
  }
 ],
 "metadata": {
  "kernelspec": {
   "display_name": "Python 3 (ipykernel)",
   "language": "python",
   "name": "python3"
  },
  "language_info": {
   "codemirror_mode": {
    "name": "ipython",
    "version": 3
   },
   "file_extension": ".py",
   "mimetype": "text/x-python",
   "name": "python",
   "nbconvert_exporter": "python",
   "pygments_lexer": "ipython3",
   "version": "3.9.1"
  }
 },
 "nbformat": 4,
 "nbformat_minor": 5
}
