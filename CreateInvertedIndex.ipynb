{
 "cells": [
  {
   "cell_type": "code",
   "execution_count": 56,
   "id": "95be0be8-ccfb-47da-8b9e-4da2250480e3",
   "metadata": {},
   "outputs": [],
   "source": [
    "import pandas as pd\n",
    "from sklearn.metrics.pairwise import cosine_similarity\n",
    "import numpy as np\n",
    "from tqdm import tqdm\n",
    "import json"
   ]
  },
  {
   "cell_type": "code",
   "execution_count": 57,
   "id": "ec1b53c8-4912-4ba5-86f7-d106d73abc7a",
   "metadata": {},
   "outputs": [],
   "source": [
    "# load processed dataframe saved from load_data.ipynb\n",
    "processed_df = pd.read_pickle('assets/processed_df.pkl')"
   ]
  },
  {
   "cell_type": "markdown",
   "id": "4e947cd5-1184-4a80-9978-8d719be9ef62",
   "metadata": {},
   "source": [
    "## Term Frequency Model\n",
    "This recommender model simply ranks documents based on the count of words that are most frequently share between the query and the document. "
   ]
  },
  {
   "cell_type": "code",
   "execution_count": 58,
   "id": "7b871376-292a-453e-a114-9ddb43bc1061",
   "metadata": {},
   "outputs": [],
   "source": [
    "# build inverted index with word and frequency word appears in each document\n",
    "def inverted_index(df, normalization):\n",
    "    inv_index = dict()\n",
    "    for doc, words in tqdm(dict(zip(df['naics'],df[normalization])).items()):\n",
    "        for word in words:\n",
    "            if word in inv_index:\n",
    "                inv_index[word][doc] = words.count(word)\n",
    "            else:\n",
    "                inv_index[word] = {doc: words.count(word)}\n",
    "    return inv_index"
   ]
  },
  {
   "cell_type": "code",
   "execution_count": 59,
   "id": "3ba3ad25-b6bc-44e9-bbed-a4468d5835d3",
   "metadata": {},
   "outputs": [],
   "source": [
    "#code takes a very long time (15-20 mins)\n",
    "#do not run!! use resulting pkl file instead"
   ]
  },
  {
   "cell_type": "code",
   "execution_count": 60,
   "id": "b0ed9953-8380-45f4-9aec-d7b50aa868be",
   "metadata": {},
   "outputs": [
    {
     "name": "stderr",
     "output_type": "stream",
     "text": [
      " 11%|████████▎                                                                      | 111/1057 [03:03<26:05,  1.65s/it]\n",
      "\n",
      "KeyboardInterrupt\n",
      "\n"
     ]
    }
   ],
   "source": [
    "inverted_index_stem = inverted_index(processed_df, 'stemmed')"
   ]
  },
  {
   "cell_type": "code",
   "execution_count": null,
   "id": "b8a47349-b860-4b77-ab82-80a10f5acdc9",
   "metadata": {},
   "outputs": [],
   "source": [
    "inverted_index_lem = inverted_index(processed_df, 'lemmatized')"
   ]
  },
  {
   "cell_type": "code",
   "execution_count": null,
   "id": "9f85514f-1093-4b3f-8ea8-61f6d073afc6",
   "metadata": {},
   "outputs": [],
   "source": [
    "# export as json files so you do not have to run the code again."
   ]
  },
  {
   "cell_type": "code",
   "execution_count": null,
   "id": "8a239d26-aaa5-4cc4-aa3e-3435a46689d3",
   "metadata": {},
   "outputs": [],
   "source": [
    "with open(r'assets/inverted_index_stem.json', 'w') as f:\n",
    "    json.dump(inverted_index_stem, f)"
   ]
  },
  {
   "cell_type": "code",
   "execution_count": null,
   "id": "c8ce616b-e088-4db1-8bec-e1d19840eb00",
   "metadata": {},
   "outputs": [],
   "source": [
    "with open(r'assets/inverted_index_lem.json', 'w') as f:\n",
    "    json.dump(inverted_index_lem, f)"
   ]
  }
 ],
 "metadata": {
  "kernelspec": {
   "display_name": "Python 3 (ipykernel)",
   "language": "python",
   "name": "python3"
  },
  "language_info": {
   "codemirror_mode": {
    "name": "ipython",
    "version": 3
   },
   "file_extension": ".py",
   "mimetype": "text/x-python",
   "name": "python",
   "nbconvert_exporter": "python",
   "pygments_lexer": "ipython3",
   "version": "3.9.1"
  }
 },
 "nbformat": 4,
 "nbformat_minor": 5
}
